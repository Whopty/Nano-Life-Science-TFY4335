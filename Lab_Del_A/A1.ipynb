{
 "cells": [
  {
   "cell_type": "code",
   "execution_count": null,
   "metadata": {},
   "outputs": [],
   "source": [
    "# PART A: PARTICLE TRACKING\n",
    "from __future__ import division, unicode_literals, print_function # for compatibility with Python 2 and 3\n",
    "import matplotlib as mpl\n",
    "import matplotlib.pyplot as plt\n",
    "import numpy as np\n",
    "import pandas as pd\n",
    "import csv\n",
    "import os\n",
    "from pandas import DataFrame, Series # for convenience\n",
    "import pims\n",
    "import trackpy as tp\n",
    "\n",
    "\n",
    "# Optionally, tweak styles.\n",
    "mpl.rc('figure', figsize=(10, 5))\n",
    "mpl.rc('image', cmap='gray')\n",
    "\n",
    "@pims.pipeline\n",
    "def gray(image):\n",
    "    return image[:, :, 1] # Take just the green channel"
   ]
  },
  {
   "cell_type": "code",
   "execution_count": null,
   "metadata": {},
   "outputs": [],
   "source": [
    "frames = gray(pims.Video('A1.avi'))\n",
    "print(frames[0])\n",
    "plt.imshow(frames[0])"
   ]
  },
  {
   "cell_type": "code",
   "execution_count": null,
   "metadata": {},
   "outputs": [],
   "source": [
    "# STEP 2: LOCATE FEATURES\n",
    "f = tp.locate(frames[0], 69)\n",
    "print(f.head()) # See top rows and columns for frame 0\n",
    "plt.figure()\n",
    "tp.annotate(f, frames[0])"
   ]
  },
  {
   "cell_type": "code",
   "execution_count": null,
   "metadata": {},
   "outputs": [],
   "source": [
    "# Diagnostics\n",
    "fig, ax = plt.subplots()\n",
    "ax.hist(f['mass'], bins=50)\n",
    "ax.set(xlabel='mass', ylabel='count')\n",
    "\n",
    "min_value = f['mass'].min()\n",
    "print(\"The minimum value of mass is:\", min_value)\n"
   ]
  },
  {
   "cell_type": "code",
   "execution_count": null,
   "metadata": {},
   "outputs": [],
   "source": [
    "f = tp.locate(frames[0], 21)\n",
    "tp.annotate(f, frames[0])"
   ]
  },
  {
   "cell_type": "code",
   "execution_count": null,
   "metadata": {},
   "outputs": [],
   "source": [
    "# Subpixel accuracy\n",
    "tp.subpx_bias(f)\n",
    "pixel_dia = 19\n",
    "tp.subpx_bias(tp.locate(frames[0], pixel_dia))"
   ]
  },
  {
   "cell_type": "code",
   "execution_count": null,
   "metadata": {},
   "outputs": [],
   "source": [
    "f = tp.batch(frames[:100], pixel_dia, engine='numba',processes=1)"
   ]
  },
  {
   "cell_type": "code",
   "execution_count": null,
   "metadata": {},
   "outputs": [],
   "source": [
    "# STEP 3: LINK FEATURES INTO PARTICLE TRAJECTORIES\n",
    "t = tp.link(f, 8, memory=4)"
   ]
  },
  {
   "cell_type": "code",
   "execution_count": null,
   "metadata": {},
   "outputs": [],
   "source": [
    "# Filter spurious trajectories\n",
    "t1 = tp.filter_stubs(t, 10)\n",
    "\n",
    "# Compare the number of particles in the unfiltered and filtered data.\n",
    "print('Before:', t['particle'].nunique())\n",
    "print('After:', t1['particle'].nunique())\n",
    "plt.figure()\n",
    "tp.mass_size(t1.groupby('particle').mean()) # convenience function -- just plots size vs. mass"
   ]
  },
  {
   "cell_type": "code",
   "execution_count": null,
   "metadata": {},
   "outputs": [],
   "source": [
    "t2 = t1[((t1['mass'] > 650) & (t1['size'] < 8) & (t1['ecc'] < 0.5))]\n",
    "plt.figure()\n",
    "tp.annotate(t2[t2['frame'] == 0], frames[0])\n",
    "\n",
    "plt.figure()\n",
    "tp.plot_traj(t2)"
   ]
  },
  {
   "cell_type": "code",
   "execution_count": null,
   "metadata": {},
   "outputs": [],
   "source": [
    "# Remove overall drift\n",
    "d = tp.compute_drift(t2)\n",
    "d.plot()\n",
    "plt.show()\n",
    "\n",
    "tm = tp.subtract_drift(t2.copy(), d)\n",
    "\n",
    "ax = tp.plot_traj(tm)\n",
    "plt.show()"
   ]
  },
  {
   "cell_type": "code",
   "execution_count": null,
   "metadata": {},
   "outputs": [],
   "source": [
    "# STEP 4: ANALYZE TRAJECTORIES\n",
    "tm = tm.reset_index(drop=True)\n",
    "mpp = 0.055 # microns per pixel\n",
    "#im = tp.imsd(tm, mpp, 6.2) # microns per pixel = 0.055, frames per second = 6.2"
   ]
  },
  {
   "cell_type": "code",
   "execution_count": null,
   "metadata": {},
   "outputs": [],
   "source": [
    "fig, ax = plt.subplots()\n",
    "#ax.plot(im.index, im, 'k-', alpha=0.1) # black lines, semitransparent\n",
    "ax.set(ylabel=r'$\\langle \\Delta r^2 \\rangle$ [$\\mu$m$^2$]', \n",
    "       xlabel='lag time $t$')\n",
    "ax.set_xscale('log')\n",
    "ax.set_yscale('log')"
   ]
  },
  {
   "cell_type": "code",
   "execution_count": null,
   "metadata": {},
   "outputs": [],
   "source": [
    "# Ensemble Mean Squared Displacement\n",
    "em = tp.emsd(tm, mpp, 6.2) # microns per pixel = 100/285., frames per second = 24\n",
    "fig, ax = plt.subplots()\n",
    "ax.plot(em.index, em, 'o')\n",
    "ax.set_xscale('log')\n",
    "ax.set_yscale('log')\n",
    "ax.set(ylabel=r'$\\langle \\Delta r^2 \\rangle$ [$\\mu$m$^2$]', xlabel='lag time $t$')\n",
    "ax.set(ylim=(1e-2, 10))\n",
    "\n",
    "plt.figure()\n",
    "plt.ylabel(r'$\\langle \\Delta r^2 \\rangle$ [$\\mu$m$^2$]')\n",
    "plt.xlabel('lag time $t$')\n",
    "tp.utils.fit_powerlaw(em) # performs linear best fit in log space, plots"
   ]
  },
  {
   "cell_type": "code",
   "execution_count": null,
   "metadata": {},
   "outputs": [],
   "source": [
    "# Find the optical radius\n",
    "all_size_list_r = []  # To store radius lists for all frames\n",
    "for frame in range(100):  # Loop through 100 frames to get better estimate\n",
    "    size_list = t2[\"size\"][frame].to_list() # Particle sizes current frame, use t2 for filter\n",
    "    size_list_r = [elem / 2 * mpp for elem in size_list]  # Convert to radius in microns\n",
    "    all_size_list_r.extend(size_list_r)  # Collect the radius list from all frames\n",
    "\n",
    "# Save as CSV\n",
    "df = pd.DataFrame(all_size_list_r)\n",
    "df.to_csv('optical_radius_A1.csv', index=False)\n",
    "\n",
    "# Now calculate the mean and standard deviation across all frames\n",
    "r_optical = [f'{np.mean(all_size_list_r):.2e} \\u00B1 {np.std(all_size_list_r):.2e}']\n",
    "\n",
    "A_value = 0.133419 # Add all the decimals\n",
    "D_value = A_value/4 #um^2/s\n",
    "r_hyd = (293 * 1.38*10**-23) / (6 * np.pi * 10**-3 * D_value)\n",
    "\n",
    "# Prepare the new values to replace\n",
    "new_values = [f'{D_value:.2e}', f'{r_hyd:.2e}', r_optical]\n",
    "\n",
    "# Check if the file exists and read existing rows\n",
    "rows = {}\n",
    "if os.path.exists('Lab_A_Data.csv'):\n",
    "    with open('Lab_A_Data.csv', 'r', newline='') as f:\n",
    "        reader = csv.reader(f)\n",
    "        # Read the header row\n",
    "        header = next(reader)\n",
    "        # Store existing rows in a dictionary\n",
    "        rows = {row[0]: row[1:] for row in reader}\n",
    "\n",
    "# Replace the values in the specified row\n",
    "rows['A1'] = new_values  # Replace or create the row\n",
    "\n",
    "# Write all rows back to the CSV file\n",
    "with open('Lab_A_Data.csv', 'w', newline='') as f:\n",
    "    writer = csv.writer(f)\n",
    "    # Write the header row\n",
    "    writer.writerow(['Row','Value D', 'r_hyd','r_optical'])\n",
    "    # Write the data rows\n",
    "    for row_name, values in rows.items():\n",
    "        writer.writerow([row_name] + values)"
   ]
  }
 ],
 "metadata": {
  "kernelspec": {
   "display_name": "Python 3.11.5 64-bit",
   "language": "python",
   "name": "python3"
  },
  "language_info": {
   "codemirror_mode": {
    "name": "ipython",
    "version": 3
   },
   "file_extension": ".py",
   "mimetype": "text/x-python",
   "name": "python",
   "nbconvert_exporter": "python",
   "pygments_lexer": "ipython3",
   "version": "3.11.5"
  },
  "orig_nbformat": 4,
  "vscode": {
   "interpreter": {
    "hash": "1a1af0ee75eeea9e2e1ee996c87e7a2b11a0bebd85af04bb136d915cefc0abce"
   }
  }
 },
 "nbformat": 4,
 "nbformat_minor": 2
}
